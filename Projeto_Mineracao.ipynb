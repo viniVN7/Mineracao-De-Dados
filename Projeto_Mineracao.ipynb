{
  "nbformat": 4,
  "nbformat_minor": 0,
  "metadata": {
    "colab": {
      "provenance": [],
      "authorship_tag": "ABX9TyPKQWzuCB7StCpB1VeFbIzE",
      "include_colab_link": true
    },
    "kernelspec": {
      "name": "python3",
      "display_name": "Python 3"
    },
    "language_info": {
      "name": "python"
    }
  },
  "cells": [
    {
      "cell_type": "markdown",
      "metadata": {
        "id": "view-in-github",
        "colab_type": "text"
      },
      "source": [
        "<a href=\"https://colab.research.google.com/github/viniVN7/Mineracao-De-Dados/blob/main/Projeto_Mineracao.ipynb\" target=\"_parent\"><img src=\"https://colab.research.google.com/assets/colab-badge.svg\" alt=\"Open In Colab\"/></a>"
      ]
    },
    {
      "cell_type": "code",
      "execution_count": 24,
      "metadata": {
        "id": "l5jpBLX4MR4z"
      },
      "outputs": [],
      "source": [
        "import numpy as np\n",
        "import pandas as pd\n",
        "import matplotlib.pyplot as plt\n",
        "import seaborn as sns\n",
        "from sklearn.ensemble import RandomForestClassifier,GradientBoostingClassifier\n",
        "from sklearn.model_selection import train_test_split\n",
        "from sklearn.metrics import classification_report\n",
        "from sklearn.neural_network import MLPClassifier\n",
        "\n",
        "from sklearn.linear_model import LogisticRegression\n",
        "from sklearn.metrics import  accuracy_score, precision_score, recall_score, f1_score\n",
        "from sklearn.preprocessing import OneHotEncoder, StandardScaler\n",
        "\n",
        "from sklearn.tree import DecisionTreeClassifier"
      ]
    },
    {
      "cell_type": "code",
      "source": [
        "url = 'https://raw.githubusercontent.com/viniVN7/Mineracao-De-Dados/main/Projeto/Bank%20Customer%20Churn%20Prediction.csv'\n",
        "df = pd.read_csv(url, sep=',', encoding = 'latin1')"
      ],
      "metadata": {
        "id": "OstaYQETM_Lr"
      },
      "execution_count": 4,
      "outputs": []
    },
    {
      "cell_type": "code",
      "source": [
        "df.head()"
      ],
      "metadata": {
        "id": "dk4P0PwzM_tj"
      },
      "execution_count": null,
      "outputs": []
    },
    {
      "cell_type": "markdown",
      "source": [
        "# **Quantidade de linhas e colunas**"
      ],
      "metadata": {
        "id": "PglzxiJdNfrL"
      }
    },
    {
      "cell_type": "code",
      "source": [
        "df.info()"
      ],
      "metadata": {
        "id": "gXSuXjo-NfRg"
      },
      "execution_count": null,
      "outputs": []
    },
    {
      "cell_type": "markdown",
      "source": [
        "# Quantidade de clientes por país"
      ],
      "metadata": {
        "id": "TMPfGMNEN7zi"
      }
    },
    {
      "cell_type": "code",
      "source": [
        "df['country'].value_counts()"
      ],
      "metadata": {
        "id": "TRYOe3YSOA88"
      },
      "execution_count": null,
      "outputs": []
    },
    {
      "cell_type": "markdown",
      "source": [
        "# Média de idade dos clientes"
      ],
      "metadata": {
        "id": "qmP-m2HuPvmU"
      }
    },
    {
      "cell_type": "code",
      "source": [
        "df['age'].mean()"
      ],
      "metadata": {
        "colab": {
          "base_uri": "https://localhost:8080/"
        },
        "id": "ZSid18E5P2ro",
        "outputId": "bce09541-43e0-4636-ea03-e9fa186b23f5"
      },
      "execution_count": 8,
      "outputs": [
        {
          "output_type": "execute_result",
          "data": {
            "text/plain": [
              "38.9218"
            ]
          },
          "metadata": {},
          "execution_count": 8
        }
      ]
    },
    {
      "cell_type": "code",
      "source": [
        "#verificando se há valores repetidos\n",
        "df.loc[df['customer_id'] == df['customer_id'].duplicated()]"
      ],
      "metadata": {
        "id": "jaxNkOSRQDSJ"
      },
      "execution_count": null,
      "outputs": []
    },
    {
      "cell_type": "code",
      "source": [
        "df.drop('customer_id', 1, inplace=True)\n",
        "df.describe()"
      ],
      "metadata": {
        "id": "XCOyTuwcRXG2"
      },
      "execution_count": null,
      "outputs": []
    },
    {
      "cell_type": "code",
      "source": [
        "#total de clientes que possuem cartão de crédito\n",
        "df[df['credit_card'] == 1].shape[0]"
      ],
      "metadata": {
        "id": "GQUyNctpVZH8"
      },
      "execution_count": null,
      "outputs": []
    },
    {
      "cell_type": "code",
      "source": [
        "#Quantidade de clientes que possuem cartão de crédito por país\n",
        "df[df['credit_card'] == 1].groupby('country').size()"
      ],
      "metadata": {
        "id": "4IGovDCATFPZ"
      },
      "execution_count": null,
      "outputs": []
    },
    {
      "cell_type": "code",
      "source": [
        "df['credit_score'].min()"
      ],
      "metadata": {
        "id": "Ie3tcHnzKEYw"
      },
      "execution_count": null,
      "outputs": []
    },
    {
      "cell_type": "code",
      "source": [
        "df['credit_score'].max()"
      ],
      "metadata": {
        "id": "DFFdaHxV1P2d"
      },
      "execution_count": null,
      "outputs": []
    },
    {
      "cell_type": "code",
      "source": [
        "df['credit_score'].median()"
      ],
      "metadata": {
        "colab": {
          "base_uri": "https://localhost:8080/"
        },
        "id": "xY449cfQQAeo",
        "outputId": "7ed50108-7cdf-439b-9c5f-c8334ee6107d"
      },
      "execution_count": 15,
      "outputs": [
        {
          "output_type": "execute_result",
          "data": {
            "text/plain": [
              "652.0"
            ]
          },
          "metadata": {},
          "execution_count": 15
        }
      ]
    },
    {
      "cell_type": "code",
      "source": [
        "df['estimated_salary'].max()"
      ],
      "metadata": {
        "colab": {
          "base_uri": "https://localhost:8080/"
        },
        "id": "U17yfC6nKR7O",
        "outputId": "c3597bee-f2a8-4c43-b914-194f9ee30357"
      },
      "execution_count": 16,
      "outputs": [
        {
          "output_type": "execute_result",
          "data": {
            "text/plain": [
              "199992.48"
            ]
          },
          "metadata": {},
          "execution_count": 16
        }
      ]
    },
    {
      "cell_type": "code",
      "source": [
        "df['estimated_salary'].mean()"
      ],
      "metadata": {
        "colab": {
          "base_uri": "https://localhost:8080/"
        },
        "id": "Yi-rsdiAKgAr",
        "outputId": "c3e071a6-4e8e-4dfc-c8de-30cb62daef74"
      },
      "execution_count": 17,
      "outputs": [
        {
          "output_type": "execute_result",
          "data": {
            "text/plain": [
              "100090.239881"
            ]
          },
          "metadata": {},
          "execution_count": 17
        }
      ]
    },
    {
      "cell_type": "code",
      "source": [
        "fig, ax = plt.subplots(nrows=4, ncols=2, figsize=(15, 10))\n",
        "\n",
        "# Lista com os nomes das colunas para os gráficos de pizza\n",
        "columns_pie = ['churn', 'country', 'gender', 'products_number', 'credit_card', 'active_member']\n",
        "# Rótulos para os gráficos de pizza\n",
        "labels_pie = [['No Churn', 'Churn'], df.country.unique(), df.gender.unique(), df.products_number.unique(), ['No Credit card', 'Credit card'], ['No Active member', 'Active member']]\n",
        "# Títulos para os gráficos de pizza\n",
        "titles_pie = ['Churn Distribution', 'Countries', 'Gender', 'Product Number Distribution', 'Credit Card Status', 'Active Membership']\n",
        "\n",
        "# Gera os gráficos de pizza e o gráfico de barras\n",
        "for i, column in enumerate(columns_pie):\n",
        "    pd.crosstab(index=df[column], columns='count', normalize=True).plot(kind='pie', autopct='%.1f%%', y='count', labels=labels_pie[i], ylabel='', title=titles_pie[i], legend=False, ax=ax[i//2, i%2])\n",
        "pd.crosstab(index=df.tenure, columns='count', normalize=True).plot(kind='bar', title='Tenure', legend=False, ax=ax[3, 0])\n",
        "ax[3, 1].axis('off')\n",
        "\n",
        "fig.suptitle('EDA of Bank Churn data set')\n",
        "fig.subplots_adjust(hspace=0.5)\n",
        "\n",
        "plt.tight_layout()\n"
      ],
      "metadata": {
        "id": "CrUKkQIlL2N5",
        "colab": {
          "base_uri": "https://localhost:8080/",
          "height": 844
        },
        "outputId": "cb422845-d370-4096-f466-310425911638"
      },
      "execution_count": 18,
      "outputs": [
        {
          "output_type": "display_data",
          "data": {
            "text/plain": [
              "<Figure size 1500x1000 with 8 Axes>"
            ],
            "image/png": "[encoded data removed]"
          },
          "metadata": {}
        }
      ]
    },
    {
      "cell_type": "code",
      "source": [],
      "metadata": {
        "id": "tVENvOdpQZMk"
      },
      "execution_count": 18,
      "outputs": []
    },
    {
      "cell_type": "code",
      "source": [
        "# Dividir o conjunto de dados em variáveis de entrada (X) e variável de saída (y)\n",
        "X = df.drop('churn', axis=1)\n",
        "y = df['churn']\n",
        "\n",
        "# Converter variáveis categóricas em representações numéricas usando codificação one-hot\n",
        "encoder = OneHotEncoder(sparse=False, drop='first')\n",
        "X_encoded = encoder.fit_transform(X[['gender', 'country']])\n",
        "\n",
        "# Concatenar as variáveis categóricas codificadas com as variáveis numéricas originais\n",
        "X_final = pd.concat([X.drop(['gender', 'country'], axis=1), pd.DataFrame(X_encoded)], axis=1)\n",
        "\n",
        "# Converter todas as colunas para o tipo de dados string\n",
        "X_final.columns = X_final.columns.astype(str)\n",
        "\n",
        "# Normalizar os dados\n",
        "scaler = StandardScaler()\n",
        "X_normalized = scaler.fit_transform(X_final)\n",
        "\n",
        "# Dividir o conjunto de dados normalizado em conjunto de treinamento e conjunto de teste\n",
        "X_train, X_test, y_train, y_test = train_test_split(X_normalized, y, test_size=0.2, random_state=42)\n",
        "\n",
        "# Instanciar o modelo de regressão logística\n",
        "model = LogisticRegression()\n",
        "\n",
        "# Treinar o modelo usando o conjunto de treinamento\n",
        "model.fit(X_train, y_train)\n",
        "\n",
        "# Fazer previsões no conjunto de teste\n",
        "y_pred = model.predict(X_test)\n",
        "\n",
        "# Avaliar a precisão do modelo\n",
        "accuracy = accuracy_score(y_test, y_pred)\n",
        "print(\"Acurácia:\", accuracy)\n",
        "\n",
        "# Avaliar a precisão do modelo\n",
        "precision = precision_score(y_test, y_pred)\n",
        "print(\"Precisão:\", precision)\n",
        "\n",
        "recall = recall_score(y_test, y_pred)\n",
        "print(\"Recall:\", recall)"
      ],
      "metadata": {
        "colab": {
          "base_uri": "https://localhost:8080/"
        },
        "id": "oKq0inpKR1lL",
        "outputId": "675a2dff-098a-4f92-f1e3-f846fe1a6838"
      },
      "execution_count": 29,
      "outputs": [
        {
          "output_type": "stream",
          "name": "stdout",
          "text": [
            "Acurácia: 0.811\n",
            "Precisão: 0.5524475524475524\n",
            "Recall: 0.2010178117048346\n"
          ]
        },
        {
          "output_type": "stream",
          "name": "stderr",
          "text": [
            "/usr/local/lib/python3.10/dist-packages/sklearn/preprocessing/_encoders.py:868: FutureWarning: `sparse` was renamed to `sparse_output` in version 1.2 and will be removed in 1.4. `sparse_output` is ignored unless you leave `sparse` to its default value.\n",
            "  warnings.warn(\n"
          ]
        }
      ]
    },
    {
      "cell_type": "markdown",
      "source": [],
      "metadata": {
        "id": "O1Mv8MUXf2dY"
      }
    },
    {
      "cell_type": "code",
      "source": [
        "#árvore\n",
        "\n",
        "# Dividir o conjunto de dados em variáveis de entrada (X) e variável de saída (y)\n",
        "X = df.drop('churn', axis=1)\n",
        "y = df['churn']\n",
        "\n",
        "# Converter variáveis categóricas em representações numéricas usando codificação one-hot\n",
        "encoder = OneHotEncoder(sparse=False, drop='first')\n",
        "X_encoded = encoder.fit_transform(X[['gender', 'country']])\n",
        "\n",
        "# Concatenar as variáveis categóricas codificadas com as variáveis numéricas originais\n",
        "X_final = pd.concat([X.drop(['gender', 'country'], axis=1), pd.DataFrame(X_encoded)], axis=1)\n",
        "\n",
        "# Converter todas as colunas para o tipo de dados string\n",
        "X_final.columns = X_final.columns.astype(str)\n",
        "\n",
        "# Dividir o conjunto de dados final em conjunto de treinamento e conjunto de teste\n",
        "X_train, X_test, y_train, y_test = train_test_split(X_final, y, test_size=0.2, random_state=42)\n",
        "\n",
        "# Instanciar o modelo de Árvore de Decisão\n",
        "model = DecisionTreeClassifier()\n",
        "\n",
        "# Treinar o modelo usando o conjunto de treinamento\n",
        "model.fit(X_train, y_train)\n",
        "\n",
        "# Fazer previsões no conjunto de teste\n",
        "y_pred = model.predict(X_test)\n",
        "\n",
        "# Avaliar a precisão do modelo\n",
        "accuracy = accuracy_score(y_test, y_pred)\n",
        "print(\"Acurácia:\", accuracy)\n",
        "\n",
        "# Avaliar a precisão do modelo\n",
        "precision = precision_score(y_test, y_pred)\n",
        "print(\"Precisão:\", precision)\n",
        "\n",
        "recall = recall_score(y_test, y_pred)\n",
        "print(\"Recall:\", recall)"
      ],
      "metadata": {
        "colab": {
          "base_uri": "https://localhost:8080/"
        },
        "id": "gdsG7k1yf4B7",
        "outputId": "13d64abf-365d-4434-c4ce-f47e2104c95a"
      },
      "execution_count": 30,
      "outputs": [
        {
          "output_type": "stream",
          "name": "stdout",
          "text": [
            "Acurácia: 0.7805\n",
            "Precisão: 0.44724770642201833\n",
            "Recall: 0.4961832061068702\n"
          ]
        },
        {
          "output_type": "stream",
          "name": "stderr",
          "text": [
            "/usr/local/lib/python3.10/dist-packages/sklearn/preprocessing/_encoders.py:868: FutureWarning: `sparse` was renamed to `sparse_output` in version 1.2 and will be removed in 1.4. `sparse_output` is ignored unless you leave `sparse` to its default value.\n",
            "  warnings.warn(\n"
          ]
        }
      ]
    },
    {
      "cell_type": "code",
      "source": [
        "from sklearn.naive_bayes import GaussianNB\n",
        "from sklearn.metrics import accuracy_score\n",
        "from sklearn.preprocessing import StandardScaler\n",
        "from sklearn.model_selection import train_test_split \n",
        "\n",
        "# Dividir o conjunto de dados em variáveis de entrada (X) e variável de saída (y)\n",
        "X = df.drop('churn', axis=1)\n",
        "y = df['churn']\n",
        "\n",
        "# Converter variáveis categóricas em representações numéricas usando codificação one-hot\n",
        "encoder = OneHotEncoder(sparse=False, drop='first')\n",
        "X_encoded = encoder.fit_transform(X)\n",
        "\n",
        "# Normalizar os dados\n",
        "scaler = StandardScaler()\n",
        "X_normalized = scaler.fit_transform(X_encoded)\n",
        "\n",
        "# Dividir o conjunto de dados normalizado em conjunto de treinamento e conjunto de teste\n",
        "X_train, X_test, y_train, y_test = train_test_split(X_normalized, y, test_size=0.2, random_state=42)\n",
        "\n",
        "# Instanciar o modelo Naive Bayes\n",
        "model = GaussianNB()\n",
        "\n",
        "# Treinar o modelo usando o conjunto de treinamento\n",
        "model.fit(X_train, y_train)\n",
        "\n",
        "# Fazer previsões no conjunto de teste\n",
        "y_pred = model.predict(X_test)\n",
        "\n",
        "# Avaliar a accuracy do modelo\n",
        "accuracy = accuracy_score(y_test, y_pred)\n",
        "print(\"Acurácia:\", accuracy)\n",
        "\n",
        "# Avaliar a precisão do modelo\n",
        "precision = precision_score(y_test, y_pred)\n",
        "print(\"Precisão:\", precision)"
      ],
      "metadata": {
        "colab": {
          "base_uri": "https://localhost:8080/"
        },
        "id": "W8fQGAHMgyvk",
        "outputId": "19d195ab-34b2-45e1-efbb-c1e2e73e829a"
      },
      "execution_count": 21,
      "outputs": [
        {
          "output_type": "stream",
          "name": "stderr",
          "text": [
            "/usr/local/lib/python3.10/dist-packages/sklearn/preprocessing/_encoders.py:868: FutureWarning: `sparse` was renamed to `sparse_output` in version 1.2 and will be removed in 1.4. `sparse_output` is ignored unless you leave `sparse` to its default value.\n",
            "  warnings.warn(\n"
          ]
        },
        {
          "output_type": "stream",
          "name": "stdout",
          "text": [
            "Acurácia: 0.2245\n"
          ]
        }
      ]
    },
    {
      "cell_type": "markdown",
      "source": [],
      "metadata": {
        "id": "_Fepzlf4gyHX"
      }
    },
    {
      "cell_type": "code",
      "source": [
        "# Dividir o conjunto de dados em variáveis de entrada (X) e variável de saída (y)\n",
        "X = df.drop('churn', axis=1)\n",
        "y = df['churn']\n",
        "\n",
        "# Converter variáveis categóricas em representações numéricas usando codificação one-hot\n",
        "encoder = OneHotEncoder(sparse=False, drop='first')\n",
        "X_encoded = encoder.fit_transform(X[['gender', 'country']])\n",
        "\n",
        "# Concatenar as variáveis categóricas codificadas com as variáveis numéricas originais\n",
        "X_final = pd.concat([X.drop(['gender', 'country'], axis=1), pd.DataFrame(X_encoded)], axis=1)\n",
        "\n",
        "# Converter todas as colunas para o tipo de dados string\n",
        "X_final.columns = X_final.columns.astype(str)\n",
        "\n",
        "# Normalizar os dados\n",
        "scaler = StandardScaler()\n",
        "X_normalized = scaler.fit_transform(X_final)\n",
        "\n",
        "# Dividir o conjunto de dados normalizado em conjunto de treinamento e conjunto de teste\n",
        "X_train, X_test, y_train, y_test = train_test_split(X_normalized, y, test_size=0.2, random_state=42)\n",
        "\n",
        "# Instanciar o modelo de regressão logística\n",
        "model = LogisticRegression()\n",
        "\n",
        "# Treinar o modelo usando o conjunto de treinamento\n",
        "model.fit(X_train, y_train)\n",
        "\n",
        "# Fazer previsões no conjunto de teste\n",
        "y_pred = model.predict(X_test)\n",
        "\n",
        "# Avaliar a precisão do modelo\n",
        "precision = precision_score(y_test, y_pred)\n",
        "print(\"Precisão:\", precision)\n"
      ],
      "metadata": {
        "colab": {
          "base_uri": "https://localhost:8080/"
        },
        "id": "MbNsHdyzZpfl",
        "outputId": "1250ec6b-b103-4a6b-e51e-a0629528e548"
      },
      "execution_count": 25,
      "outputs": [
        {
          "output_type": "stream",
          "name": "stdout",
          "text": [
            "Precisão: 0.5524475524475524\n"
          ]
        },
        {
          "output_type": "stream",
          "name": "stderr",
          "text": [
            "/usr/local/lib/python3.10/dist-packages/sklearn/preprocessing/_encoders.py:868: FutureWarning: `sparse` was renamed to `sparse_output` in version 1.2 and will be removed in 1.4. `sparse_output` is ignored unless you leave `sparse` to its default value.\n",
            "  warnings.warn(\n"
          ]
        }
      ]
    },
    {
      "cell_type": "code",
      "source": [
        "#árvore\n",
        "\n",
        "# Dividir o conjunto de dados em variáveis de entrada (X) e variável de saída (y)\n",
        "X = df.drop('churn', axis=1)\n",
        "y = df['churn']\n",
        "\n",
        "# Converter variáveis categóricas em representações numéricas usando codificação one-hot\n",
        "encoder = OneHotEncoder(sparse=False, drop='first')\n",
        "X_encoded = encoder.fit_transform(X[['gender', 'country']])\n",
        "\n",
        "# Concatenar as variáveis categóricas codificadas com as variáveis numéricas originais\n",
        "X_final = pd.concat([X.drop(['gender', 'country'], axis=1), pd.DataFrame(X_encoded)], axis=1)\n",
        "\n",
        "# Converter todas as colunas para o tipo de dados string\n",
        "X_final.columns = X_final.columns.astype(str)\n",
        "\n",
        "# Dividir o conjunto de dados final em conjunto de treinamento e conjunto de teste\n",
        "X_train, X_test, y_train, y_test = train_test_split(X_final, y, test_size=0.2, random_state=42)\n",
        "\n",
        "# Instanciar o modelo de Árvore de Decisão\n",
        "model = DecisionTreeClassifier()\n",
        "\n",
        "# Treinar o modelo usando o conjunto de treinamento\n",
        "model.fit(X_train, y_train)\n",
        "\n",
        "# Fazer previsões no conjunto de teste\n",
        "y_pred = model.predict(X_test)\n",
        "\n",
        "# Avaliar a precisão do modelo\n",
        "precision = precision_score(y_test, y_pred)\n",
        "print(\"Precisão:\", precision)\n",
        "\n"
      ],
      "metadata": {
        "colab": {
          "base_uri": "https://localhost:8080/"
        },
        "id": "j-Va2JY9e85s",
        "outputId": "c23d643a-2b41-445b-c608-940339b2761f"
      },
      "execution_count": 26,
      "outputs": [
        {
          "output_type": "stream",
          "name": "stdout",
          "text": [
            "Precisão: 0.4383561643835616\n"
          ]
        },
        {
          "output_type": "stream",
          "name": "stderr",
          "text": [
            "/usr/local/lib/python3.10/dist-packages/sklearn/preprocessing/_encoders.py:868: FutureWarning: `sparse` was renamed to `sparse_output` in version 1.2 and will be removed in 1.4. `sparse_output` is ignored unless you leave `sparse` to its default value.\n",
            "  warnings.warn(\n"
          ]
        }
      ]
    },
    {
      "cell_type": "markdown",
      "source": [],
      "metadata": {
        "id": "achWtxRpe7Wu"
      }
    }
  ]
}